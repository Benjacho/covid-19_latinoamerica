{
  "nbformat": 4,
  "nbformat_minor": 0,
  "metadata": {
    "colab": {
      "name": "LatamCovid19 - Missing data.ipynb",
      "provenance": [],
      "collapsed_sections": []
    },
    "kernelspec": {
      "name": "python3",
      "display_name": "Python 3"
    }
  },
  "cells": [
    {
      "cell_type": "markdown",
      "metadata": {
        "id": "NxkM2nnjK8QF",
        "colab_type": "text"
      },
      "source": [
        "# PeruCovid19 & LatamCovid19 & DSRP\n",
        "\n",
        "### 1.- Loading data\n"
      ]
    },
    {
      "cell_type": "markdown",
      "metadata": {
        "id": "20bdV40QXslN",
        "colab_type": "text"
      },
      "source": [
        "### 1.1. Cases Covid-19 per day"
      ]
    },
    {
      "cell_type": "code",
      "metadata": {
        "id": "2W6CwPspflG_",
        "colab_type": "code",
        "outputId": "56b71342-f699-48b5-f55d-f09a22a97ca5",
        "colab": {
          "base_uri": "https://localhost:8080/",
          "height": 143
        }
      },
      "source": [
        "!git clone https://github.com/DataScienceResearchPeru/covid-19_latinoamerica.git"
      ],
      "execution_count": 9,
      "outputs": [
        {
          "output_type": "stream",
          "text": [
            "Cloning into 'covid-19_latinoamerica'...\n",
            "remote: Enumerating objects: 5, done.\u001b[K\n",
            "remote: Counting objects:  20% (1/5)\u001b[K\rremote: Counting objects:  40% (2/5)\u001b[K\rremote: Counting objects:  60% (3/5)\u001b[K\rremote: Counting objects:  80% (4/5)\u001b[K\rremote: Counting objects: 100% (5/5)\u001b[K\rremote: Counting objects: 100% (5/5), done.\u001b[K\n",
            "remote: Compressing objects: 100% (5/5), done.\u001b[K\n",
            "remote: Total 4239 (delta 0), reused 5 (delta 0), pack-reused 4234\u001b[K\n",
            "Receiving objects: 100% (4239/4239), 29.28 MiB | 19.45 MiB/s, done.\n",
            "Resolving deltas: 100% (2976/2976), done.\n"
          ],
          "name": "stdout"
        }
      ]
    },
    {
      "cell_type": "code",
      "metadata": {
        "id": "CnCSMOjpL6zU",
        "colab_type": "code",
        "colab": {}
      },
      "source": [
        "# Importamos las librerías\n",
        "import pandas as pd\n",
        "import numpy as np\n",
        "import datetime\n",
        "import os\n",
        "\n",
        "import plotly.express as px\n",
        "import plotly.offline as py\n",
        "import plotly.graph_objs as go\n",
        "\n",
        "from google.colab import files\n",
        "\n",
        "path='/content/covid-19_latinoamerica/latam_covid_19_data/daily_reports/'"
      ],
      "execution_count": 0,
      "outputs": []
    },
    {
      "cell_type": "code",
      "metadata": {
        "id": "M-7yX31QMs84",
        "colab_type": "code",
        "outputId": "70f16bf6-7f67-4fa7-a6f7-11d59fe2b17b",
        "colab": {
          "base_uri": "https://localhost:8080/",
          "height": 35
        }
      },
      "source": [
        "path, dirs, files = next(os.walk(path))\n",
        "numero_archivos = len(files) \n",
        "print('Hay {} archivos en el folder y 1 el README. Iteraremos {} veces'.format(numero_archivos,numero_archivos-1))"
      ],
      "execution_count": 11,
      "outputs": [
        {
          "output_type": "stream",
          "text": [
            "Hay 55 archivos en el folder y 1 el README. Iteraremos 54 veces\n"
          ],
          "name": "stdout"
        }
      ]
    },
    {
      "cell_type": "code",
      "metadata": {
        "id": "5P0BmwjoL4Wu",
        "colab_type": "code",
        "outputId": "c537ea7c-2c15-4588-e7c5-392fbf0795b6",
        "colab": {
          "base_uri": "https://localhost:8080/",
          "height": 73
        }
      },
      "source": [
        "# Generamos un arreglo con cada día que se tiene en archivo.\n",
        "base = (datetime.datetime.today()).date()\n",
        "numdays = numero_archivos-1\n",
        "date_list = [str(base - datetime.timedelta(days=x))+str('.csv') for x in range(numdays)]\n",
        "print('Agregamos {} nombres de archivo al arreglo'.format(len(date_list)))\n",
        "str(date_list)"
      ],
      "execution_count": 12,
      "outputs": [
        {
          "output_type": "stream",
          "text": [
            "Agregamos 54 nombres de archivo al arreglo\n"
          ],
          "name": "stdout"
        },
        {
          "output_type": "execute_result",
          "data": {
            "text/plain": [
              "\"['2020-04-18.csv', '2020-04-17.csv', '2020-04-16.csv', '2020-04-15.csv', '2020-04-14.csv', '2020-04-13.csv', '2020-04-12.csv', '2020-04-11.csv', '2020-04-10.csv', '2020-04-09.csv', '2020-04-08.csv', '2020-04-07.csv', '2020-04-06.csv', '2020-04-05.csv', '2020-04-04.csv', '2020-04-03.csv', '2020-04-02.csv', '2020-04-01.csv', '2020-03-31.csv', '2020-03-30.csv', '2020-03-29.csv', '2020-03-28.csv', '2020-03-27.csv', '2020-03-26.csv', '2020-03-25.csv', '2020-03-24.csv', '2020-03-23.csv', '2020-03-22.csv', '2020-03-21.csv', '2020-03-20.csv', '2020-03-19.csv', '2020-03-18.csv', '2020-03-17.csv', '2020-03-16.csv', '2020-03-15.csv', '2020-03-14.csv', '2020-03-13.csv', '2020-03-12.csv', '2020-03-11.csv', '2020-03-10.csv', '2020-03-09.csv', '2020-03-08.csv', '2020-03-07.csv', '2020-03-06.csv', '2020-03-05.csv', '2020-03-04.csv', '2020-03-03.csv', '2020-03-02.csv', '2020-03-01.csv', '2020-02-29.csv', '2020-02-28.csv', '2020-02-27.csv', '2020-02-26.csv', '2020-02-25.csv']\""
            ]
          },
          "metadata": {
            "tags": []
          },
          "execution_count": 12
        }
      ]
    },
    {
      "cell_type": "code",
      "metadata": {
        "id": "WuXFWpnqfVT-",
        "colab_type": "code",
        "outputId": "c091018b-d71e-4942-af02-28cf4126387c",
        "colab": {
          "base_uri": "https://localhost:8080/",
          "height": 35
        }
      },
      "source": [
        "# Convertimos a data frame cada archivo.\n",
        "array_dataframes=[]\n",
        "indice=0\n",
        "print('En total hay {} archivos'.format(numdays))\n",
        "for date in date_list:\n",
        "  array_dataframes.append(pd.read_csv(path+date, sep=','))    \n",
        "  array_dataframes[indice]['Date']=date[:-4]\n",
        "  del array_dataframes[indice]['Last Update']\n",
        "  del array_dataframes[indice]['Country']\n",
        "  del array_dataframes[indice]['Subdivision']\n",
        "  # Crear dataframe total\n",
        "  indice+=1"
      ],
      "execution_count": 13,
      "outputs": [
        {
          "output_type": "stream",
          "text": [
            "En total hay 54 archivos\n"
          ],
          "name": "stdout"
        }
      ]
    },
    {
      "cell_type": "code",
      "metadata": {
        "id": "k23F3uHiG5l8",
        "colab_type": "code",
        "colab": {}
      },
      "source": [
        "total_data=pd.DataFrame() # structure \n",
        "for m in range(len(array_dataframes)-1):\n",
        "  total_data=pd.concat([total_data,array_dataframes[m]], ignore_index=True)  \n",
        "# Eliminamos duplicados\n",
        "total_data=total_data.drop_duplicates(keep=False)"
      ],
      "execution_count": 0,
      "outputs": []
    },
    {
      "cell_type": "markdown",
      "metadata": {
        "id": "i68xQwcfvicu",
        "colab_type": "text"
      },
      "source": [
        "Loading ISO 3166-2 Code"
      ]
    },
    {
      "cell_type": "code",
      "metadata": {
        "id": "C1UVIiIOrZQG",
        "colab_type": "code",
        "colab": {}
      },
      "source": [
        "url='https://raw.githubusercontent.com/DataScienceResearchPeru/covid-19_latinoamerica/master/utils/iso3166-2.csv'\n",
        "template_isocode=pd.read_csv(url, sep=',')\n",
        "isocode=template_isocode['Code']\n",
        "array_isocode=isocode.to_numpy()"
      ],
      "execution_count": 0,
      "outputs": []
    },
    {
      "cell_type": "markdown",
      "metadata": {
        "id": "nyTSxpB6zcMR",
        "colab_type": "text"
      },
      "source": [
        "Checking errors"
      ]
    },
    {
      "cell_type": "code",
      "metadata": {
        "id": "pvtLe8mhzdG0",
        "colab_type": "code",
        "colab": {}
      },
      "source": [
        "# Error in confirmed cases\n",
        "errors_confirmed=pd.DataFrame()\n",
        "errors_confirmed['Subdivision']=None\n",
        "errors_confirmed['Date']=None\n",
        "errors_confirmed['From']=None\n",
        "errors_confirmed['To']=None\n",
        "\n",
        "# Errors in deaths cases\n",
        "errors_deaths=pd.DataFrame()\n",
        "errors_deaths['Subdivision']=None\n",
        "errors_deaths['Date']=None\n",
        "errors_deaths['From']=None\n",
        "errors_deaths['To']=None\n",
        "\n",
        "# Errors in recovered cases\n",
        "errors_recovered=pd.DataFrame()\n",
        "errors_recovered['Subdivision']=None\n",
        "errors_recovered['Date']=None\n",
        "errors_recovered['From']=None\n",
        "errors_recovered['To']=None\n",
        "\n",
        "for code in array_isocode:\n",
        "  # NaN to zero\n",
        "  per_subdivision=total_data[total_data['ISO 3166-2 Code']==code]\n",
        "  per_subdivision=per_subdivision.fillna(0)\n",
        "  per_subdivision=per_subdivision.sort_values(by=['Date'])\n",
        "  # Variables iniciales\n",
        "  init_confirmed,init_deaths,init_recovered=0,0,0\n",
        "  for index, row in per_subdivision.iterrows():\n",
        "    temp_c=int(row['Confirmed'])\n",
        "    temp_d=int(row['Deaths'])\n",
        "    temp_r=int(row['Recovered'])\n",
        "    day=row['Date']\n",
        "    # Compare day after vs before in confirmed\n",
        "    if temp_c>=init_confirmed:\n",
        "      init_confirmed=temp_c\n",
        "    else:\n",
        "      errors_confirmed.loc[index]=[code,day,init_confirmed,temp_c]\n",
        "    # Compare day after vs before in deaths\n",
        "    if temp_d>init_deaths:\n",
        "      init_deaths=temp_d\n",
        "    else:\n",
        "      errors_deaths.loc[index]=[code,day,init_deaths,temp_d]\n",
        "    # Compare day after vs before in recovered\n",
        "    if temp_r>init_recovered:\n",
        "      init_recovered=temp_r\n",
        "    else:\n",
        "      errors_recovered.loc[index]=[code,day,init_recovered,temp_r]\n",
        "\n",
        "# Generate a report\n",
        "errors_confirmed.reset_index(drop=False)   \n",
        "errors_deaths.reset_index(drop=False)\n",
        "errors_recovered.reset_index(drop=False)\n",
        "\n",
        "today=datetime.date.today()\n",
        "\n",
        "errors_confirmed.to_csv('Error confirmed generated {}.csv'.format(today), sep=',',index=True)\n",
        "errors_deaths.to_csv('Error deaths generated {}.csv'.format(today), sep=',',index=True)\n",
        "errors_recovered.to_csv('Error recovered generated {}.csv'.format(today), sep=',',index=True)\n",
        "\n",
        "files.download('Error confirmed generated {}.csv'.format(today))\n",
        "files.download('Error deaths generated {}.csv'.format(today))\n",
        "files.download('Error recovered generated {}.csv'.format(today))"
      ],
      "execution_count": 0,
      "outputs": []
    },
    {
      "cell_type": "code",
      "metadata": {
        "id": "cTdrUf5JP0-2",
        "colab_type": "code",
        "colab": {}
      },
      "source": [
        "today=datetime.date.today()\n",
        "\n",
        "errors_confirmed.to_csv('Error confirmed generated {}.csv'.format(today), sep=',',index=True)\n",
        "errors_deaths.to_csv('Error deaths generated {}.csv'.format(today), sep=',',index=True)\n",
        "errors_recovered.to_csv('Error recovered generated {}.csv'.format(today), sep=',',index=True)\n",
        "\n",
        "files.download('Error confirmed generated {}.csv'.format(today))\n",
        "files.download('Error deaths generated {}.csv'.format(today))\n",
        "files.download('Error recovered generated {}.csv'.format(today))"
      ],
      "execution_count": 0,
      "outputs": []
    },
    {
      "cell_type": "code",
      "metadata": {
        "id": "hBYW6kxwOuFD",
        "colab_type": "code",
        "colab": {}
      },
      "source": [
        "from google.colab import drive\n",
        "drive.mount('/content/drive')"
      ],
      "execution_count": 0,
      "outputs": []
    },
    {
      "cell_type": "markdown",
      "metadata": {
        "id": "ZESaTexiivnP",
        "colab_type": "text"
      },
      "source": [
        "Example of plotting errors"
      ]
    },
    {
      "cell_type": "code",
      "metadata": {
        "id": "FKFsVPstWO3h",
        "colab_type": "code",
        "outputId": "473c1ac5-44d0-409a-9ca8-857080274ac7",
        "colab": {
          "base_uri": "https://localhost:8080/",
          "height": 689
        }
      },
      "source": [
        "\n",
        "iso_name=array_isocode[15]\n",
        "\n",
        "total_data.sort_values(by=['ISO 3166-2 Code']).reset_index(drop=True)\n",
        "\n",
        "bar_data = total_data.groupby(['ISO 3166-2 Code','Date'])['Confirmed','Deaths','Recovered'].sum().reset_index().sort_values(by=['Date','ISO 3166-2 Code'], ascending=True)\n",
        "\n",
        "fig = px.bar(bar_data[bar_data['ISO 3166-2 Code']==iso_name], x=\"Date\", y=\"Confirmed\",color='ISO 3166-2 Code', text = 'Confirmed', orientation='v', height=600,\n",
        "             title='Cases')\n",
        "fig.show()"
      ],
      "execution_count": 27,
      "outputs": [
        {
          "output_type": "stream",
          "text": [
            "/usr/local/lib/python3.6/dist-packages/ipykernel_launcher.py:6: FutureWarning:\n",
            "\n",
            "Indexing with multiple keys (implicitly converted to a tuple of keys) will be deprecated, use a list instead.\n",
            "\n"
          ],
          "name": "stderr"
        },
        {
          "output_type": "display_data",
          "data": {
            "text/html": [
              "<html>\n",
              "<head><meta charset=\"utf-8\" /></head>\n",
              "<body>\n",
              "    <div>\n",
              "            <script src=\"https://cdnjs.cloudflare.com/ajax/libs/mathjax/2.7.5/MathJax.js?config=TeX-AMS-MML_SVG\"></script><script type=\"text/javascript\">if (window.MathJax) {MathJax.Hub.Config({SVG: {font: \"STIX-Web\"}});}</script>\n",
              "                <script type=\"text/javascript\">window.PlotlyConfig = {MathJaxConfig: 'local'};</script>\n",
              "        <script src=\"https://cdn.plot.ly/plotly-latest.min.js\"></script>    \n",
              "            <div id=\"71422bdd-0c15-4974-a292-497a45862986\" class=\"plotly-graph-div\" style=\"height:600px; width:100%;\"></div>\n",
              "            <script type=\"text/javascript\">\n",
              "                \n",
              "                    window.PLOTLYENV=window.PLOTLYENV || {};\n",
              "                    \n",
              "                if (document.getElementById(\"71422bdd-0c15-4974-a292-497a45862986\")) {\n",
              "                    Plotly.newPlot(\n",
              "                        '71422bdd-0c15-4974-a292-497a45862986',\n",
              "                        [{\"alignmentgroup\": \"True\", \"hoverlabel\": {\"namelength\": 0}, \"hovertemplate\": \"ISO 3166-2 Code=AR-R<br>Date=%{x}<br>Confirmed=%{text}\", \"legendgroup\": \"ISO 3166-2 Code=AR-R\", \"marker\": {\"color\": \"#636efa\"}, \"name\": \"ISO 3166-2 Code=AR-R\", \"offsetgroup\": \"ISO 3166-2 Code=AR-R\", \"orientation\": \"v\", \"showlegend\": true, \"text\": [0.0, 0.0, 0.0, 0.0, 0.0, 0.0, 0.0, 0.0, 0.0, 0.0, 0.0, 0.0, 1.0, 1.0, 1.0, 1.0, 1.0, 1.0, 1.0, 1.0, 2.0, 2.0, 3.0, 3.0, 4.0, 4.0, 4.0, 4.0, 4.0, 4.0, 8.0, 8.0, 8.0, 8.0, 9.0, 9.0, 9.0, 10.0, 15.0, 17.0, 19.0, 21.0, 22.0, 35.0, 42.0, 65.0, 78.0, 81.0, 94.0, 106.0, 0.0, 0.0, 0.0], \"textposition\": \"auto\", \"type\": \"bar\", \"x\": [\"2020-02-26\", \"2020-02-27\", \"2020-02-28\", \"2020-02-29\", \"2020-03-01\", \"2020-03-02\", \"2020-03-03\", \"2020-03-04\", \"2020-03-05\", \"2020-03-06\", \"2020-03-07\", \"2020-03-08\", \"2020-03-09\", \"2020-03-10\", \"2020-03-11\", \"2020-03-12\", \"2020-03-13\", \"2020-03-14\", \"2020-03-15\", \"2020-03-16\", \"2020-03-17\", \"2020-03-18\", \"2020-03-19\", \"2020-03-20\", \"2020-03-21\", \"2020-03-22\", \"2020-03-23\", \"2020-03-24\", \"2020-03-25\", \"2020-03-26\", \"2020-03-27\", \"2020-03-28\", \"2020-03-29\", \"2020-03-30\", \"2020-03-31\", \"2020-04-01\", \"2020-04-02\", \"2020-04-03\", \"2020-04-04\", \"2020-04-05\", \"2020-04-06\", \"2020-04-07\", \"2020-04-08\", \"2020-04-09\", \"2020-04-10\", \"2020-04-11\", \"2020-04-12\", \"2020-04-13\", \"2020-04-14\", \"2020-04-15\", \"2020-04-16\", \"2020-04-17\", \"2020-04-18\"], \"xaxis\": \"x\", \"y\": [0.0, 0.0, 0.0, 0.0, 0.0, 0.0, 0.0, 0.0, 0.0, 0.0, 0.0, 0.0, 1.0, 1.0, 1.0, 1.0, 1.0, 1.0, 1.0, 1.0, 2.0, 2.0, 3.0, 3.0, 4.0, 4.0, 4.0, 4.0, 4.0, 4.0, 8.0, 8.0, 8.0, 8.0, 9.0, 9.0, 9.0, 10.0, 15.0, 17.0, 19.0, 21.0, 22.0, 35.0, 42.0, 65.0, 78.0, 81.0, 94.0, 106.0, 0.0, 0.0, 0.0], \"yaxis\": \"y\"}],\n",
              "                        {\"barmode\": \"relative\", \"height\": 600, \"legend\": {\"tracegroupgap\": 0}, \"template\": {\"data\": {\"bar\": [{\"error_x\": {\"color\": \"#2a3f5f\"}, \"error_y\": {\"color\": \"#2a3f5f\"}, \"marker\": {\"line\": {\"color\": \"#E5ECF6\", \"width\": 0.5}}, \"type\": \"bar\"}], \"barpolar\": [{\"marker\": {\"line\": {\"color\": \"#E5ECF6\", \"width\": 0.5}}, \"type\": \"barpolar\"}], \"carpet\": [{\"aaxis\": {\"endlinecolor\": \"#2a3f5f\", \"gridcolor\": \"white\", \"linecolor\": \"white\", \"minorgridcolor\": \"white\", \"startlinecolor\": \"#2a3f5f\"}, \"baxis\": {\"endlinecolor\": \"#2a3f5f\", \"gridcolor\": \"white\", \"linecolor\": \"white\", \"minorgridcolor\": \"white\", \"startlinecolor\": \"#2a3f5f\"}, \"type\": \"carpet\"}], \"choropleth\": [{\"colorbar\": {\"outlinewidth\": 0, \"ticks\": \"\"}, \"type\": \"choropleth\"}], \"contour\": [{\"colorbar\": {\"outlinewidth\": 0, \"ticks\": \"\"}, \"colorscale\": [[0.0, \"#0d0887\"], [0.1111111111111111, \"#46039f\"], [0.2222222222222222, \"#7201a8\"], [0.3333333333333333, \"#9c179e\"], [0.4444444444444444, \"#bd3786\"], [0.5555555555555556, \"#d8576b\"], [0.6666666666666666, \"#ed7953\"], [0.7777777777777778, \"#fb9f3a\"], [0.8888888888888888, \"#fdca26\"], [1.0, \"#f0f921\"]], \"type\": \"contour\"}], \"contourcarpet\": [{\"colorbar\": {\"outlinewidth\": 0, \"ticks\": \"\"}, \"type\": \"contourcarpet\"}], \"heatmap\": [{\"colorbar\": {\"outlinewidth\": 0, \"ticks\": \"\"}, \"colorscale\": [[0.0, \"#0d0887\"], [0.1111111111111111, \"#46039f\"], [0.2222222222222222, \"#7201a8\"], [0.3333333333333333, \"#9c179e\"], [0.4444444444444444, \"#bd3786\"], [0.5555555555555556, \"#d8576b\"], [0.6666666666666666, \"#ed7953\"], [0.7777777777777778, \"#fb9f3a\"], [0.8888888888888888, \"#fdca26\"], [1.0, \"#f0f921\"]], \"type\": \"heatmap\"}], \"heatmapgl\": [{\"colorbar\": {\"outlinewidth\": 0, \"ticks\": \"\"}, \"colorscale\": [[0.0, \"#0d0887\"], [0.1111111111111111, \"#46039f\"], [0.2222222222222222, \"#7201a8\"], [0.3333333333333333, \"#9c179e\"], [0.4444444444444444, \"#bd3786\"], [0.5555555555555556, \"#d8576b\"], [0.6666666666666666, \"#ed7953\"], [0.7777777777777778, \"#fb9f3a\"], [0.8888888888888888, \"#fdca26\"], [1.0, \"#f0f921\"]], \"type\": \"heatmapgl\"}], \"histogram\": [{\"marker\": {\"colorbar\": {\"outlinewidth\": 0, \"ticks\": \"\"}}, \"type\": \"histogram\"}], \"histogram2d\": [{\"colorbar\": {\"outlinewidth\": 0, \"ticks\": \"\"}, \"colorscale\": [[0.0, \"#0d0887\"], [0.1111111111111111, \"#46039f\"], [0.2222222222222222, \"#7201a8\"], [0.3333333333333333, \"#9c179e\"], [0.4444444444444444, \"#bd3786\"], [0.5555555555555556, \"#d8576b\"], [0.6666666666666666, \"#ed7953\"], [0.7777777777777778, \"#fb9f3a\"], [0.8888888888888888, \"#fdca26\"], [1.0, \"#f0f921\"]], \"type\": \"histogram2d\"}], \"histogram2dcontour\": [{\"colorbar\": {\"outlinewidth\": 0, \"ticks\": \"\"}, \"colorscale\": [[0.0, \"#0d0887\"], [0.1111111111111111, \"#46039f\"], [0.2222222222222222, \"#7201a8\"], [0.3333333333333333, \"#9c179e\"], [0.4444444444444444, \"#bd3786\"], [0.5555555555555556, \"#d8576b\"], [0.6666666666666666, \"#ed7953\"], [0.7777777777777778, \"#fb9f3a\"], [0.8888888888888888, \"#fdca26\"], [1.0, \"#f0f921\"]], \"type\": \"histogram2dcontour\"}], \"mesh3d\": [{\"colorbar\": {\"outlinewidth\": 0, \"ticks\": \"\"}, \"type\": \"mesh3d\"}], \"parcoords\": [{\"line\": {\"colorbar\": {\"outlinewidth\": 0, \"ticks\": \"\"}}, \"type\": \"parcoords\"}], \"pie\": [{\"automargin\": true, \"type\": \"pie\"}], \"scatter\": [{\"marker\": {\"colorbar\": {\"outlinewidth\": 0, \"ticks\": \"\"}}, \"type\": \"scatter\"}], \"scatter3d\": [{\"line\": {\"colorbar\": {\"outlinewidth\": 0, \"ticks\": \"\"}}, \"marker\": {\"colorbar\": {\"outlinewidth\": 0, \"ticks\": \"\"}}, \"type\": \"scatter3d\"}], \"scattercarpet\": [{\"marker\": {\"colorbar\": {\"outlinewidth\": 0, \"ticks\": \"\"}}, \"type\": \"scattercarpet\"}], \"scattergeo\": [{\"marker\": {\"colorbar\": {\"outlinewidth\": 0, \"ticks\": \"\"}}, \"type\": \"scattergeo\"}], \"scattergl\": [{\"marker\": {\"colorbar\": {\"outlinewidth\": 0, \"ticks\": \"\"}}, \"type\": \"scattergl\"}], \"scattermapbox\": [{\"marker\": {\"colorbar\": {\"outlinewidth\": 0, \"ticks\": \"\"}}, \"type\": \"scattermapbox\"}], \"scatterpolar\": [{\"marker\": {\"colorbar\": {\"outlinewidth\": 0, \"ticks\": \"\"}}, \"type\": \"scatterpolar\"}], \"scatterpolargl\": [{\"marker\": {\"colorbar\": {\"outlinewidth\": 0, \"ticks\": \"\"}}, \"type\": \"scatterpolargl\"}], \"scatterternary\": [{\"marker\": {\"colorbar\": {\"outlinewidth\": 0, \"ticks\": \"\"}}, \"type\": \"scatterternary\"}], \"surface\": [{\"colorbar\": {\"outlinewidth\": 0, \"ticks\": \"\"}, \"colorscale\": [[0.0, \"#0d0887\"], [0.1111111111111111, \"#46039f\"], [0.2222222222222222, \"#7201a8\"], [0.3333333333333333, \"#9c179e\"], [0.4444444444444444, \"#bd3786\"], [0.5555555555555556, \"#d8576b\"], [0.6666666666666666, \"#ed7953\"], [0.7777777777777778, \"#fb9f3a\"], [0.8888888888888888, \"#fdca26\"], [1.0, \"#f0f921\"]], \"type\": \"surface\"}], \"table\": [{\"cells\": {\"fill\": {\"color\": \"#EBF0F8\"}, \"line\": {\"color\": \"white\"}}, \"header\": {\"fill\": {\"color\": \"#C8D4E3\"}, \"line\": {\"color\": \"white\"}}, \"type\": \"table\"}]}, \"layout\": {\"annotationdefaults\": {\"arrowcolor\": \"#2a3f5f\", \"arrowhead\": 0, \"arrowwidth\": 1}, \"coloraxis\": {\"colorbar\": {\"outlinewidth\": 0, \"ticks\": \"\"}}, \"colorscale\": {\"diverging\": [[0, \"#8e0152\"], [0.1, \"#c51b7d\"], [0.2, \"#de77ae\"], [0.3, \"#f1b6da\"], [0.4, \"#fde0ef\"], [0.5, \"#f7f7f7\"], [0.6, \"#e6f5d0\"], [0.7, \"#b8e186\"], [0.8, \"#7fbc41\"], [0.9, \"#4d9221\"], [1, \"#276419\"]], \"sequential\": [[0.0, \"#0d0887\"], [0.1111111111111111, \"#46039f\"], [0.2222222222222222, \"#7201a8\"], [0.3333333333333333, \"#9c179e\"], [0.4444444444444444, \"#bd3786\"], [0.5555555555555556, \"#d8576b\"], [0.6666666666666666, \"#ed7953\"], [0.7777777777777778, \"#fb9f3a\"], [0.8888888888888888, \"#fdca26\"], [1.0, \"#f0f921\"]], \"sequentialminus\": [[0.0, \"#0d0887\"], [0.1111111111111111, \"#46039f\"], [0.2222222222222222, \"#7201a8\"], [0.3333333333333333, \"#9c179e\"], [0.4444444444444444, \"#bd3786\"], [0.5555555555555556, \"#d8576b\"], [0.6666666666666666, \"#ed7953\"], [0.7777777777777778, \"#fb9f3a\"], [0.8888888888888888, \"#fdca26\"], [1.0, \"#f0f921\"]]}, \"colorway\": [\"#636efa\", \"#EF553B\", \"#00cc96\", \"#ab63fa\", \"#FFA15A\", \"#19d3f3\", \"#FF6692\", \"#B6E880\", \"#FF97FF\", \"#FECB52\"], \"font\": {\"color\": \"#2a3f5f\"}, \"geo\": {\"bgcolor\": \"white\", \"lakecolor\": \"white\", \"landcolor\": \"#E5ECF6\", \"showlakes\": true, \"showland\": true, \"subunitcolor\": \"white\"}, \"hoverlabel\": {\"align\": \"left\"}, \"hovermode\": \"closest\", \"mapbox\": {\"style\": \"light\"}, \"paper_bgcolor\": \"white\", \"plot_bgcolor\": \"#E5ECF6\", \"polar\": {\"angularaxis\": {\"gridcolor\": \"white\", \"linecolor\": \"white\", \"ticks\": \"\"}, \"bgcolor\": \"#E5ECF6\", \"radialaxis\": {\"gridcolor\": \"white\", \"linecolor\": \"white\", \"ticks\": \"\"}}, \"scene\": {\"xaxis\": {\"backgroundcolor\": \"#E5ECF6\", \"gridcolor\": \"white\", \"gridwidth\": 2, \"linecolor\": \"white\", \"showbackground\": true, \"ticks\": \"\", \"zerolinecolor\": \"white\"}, \"yaxis\": {\"backgroundcolor\": \"#E5ECF6\", \"gridcolor\": \"white\", \"gridwidth\": 2, \"linecolor\": \"white\", \"showbackground\": true, \"ticks\": \"\", \"zerolinecolor\": \"white\"}, \"zaxis\": {\"backgroundcolor\": \"#E5ECF6\", \"gridcolor\": \"white\", \"gridwidth\": 2, \"linecolor\": \"white\", \"showbackground\": true, \"ticks\": \"\", \"zerolinecolor\": \"white\"}}, \"shapedefaults\": {\"line\": {\"color\": \"#2a3f5f\"}}, \"ternary\": {\"aaxis\": {\"gridcolor\": \"white\", \"linecolor\": \"white\", \"ticks\": \"\"}, \"baxis\": {\"gridcolor\": \"white\", \"linecolor\": \"white\", \"ticks\": \"\"}, \"bgcolor\": \"#E5ECF6\", \"caxis\": {\"gridcolor\": \"white\", \"linecolor\": \"white\", \"ticks\": \"\"}}, \"title\": {\"x\": 0.05}, \"xaxis\": {\"automargin\": true, \"gridcolor\": \"white\", \"linecolor\": \"white\", \"ticks\": \"\", \"title\": {\"standoff\": 15}, \"zerolinecolor\": \"white\", \"zerolinewidth\": 2}, \"yaxis\": {\"automargin\": true, \"gridcolor\": \"white\", \"linecolor\": \"white\", \"ticks\": \"\", \"title\": {\"standoff\": 15}, \"zerolinecolor\": \"white\", \"zerolinewidth\": 2}}}, \"title\": {\"text\": \"Cases\"}, \"xaxis\": {\"anchor\": \"y\", \"domain\": [0.0, 1.0], \"title\": {\"text\": \"Date\"}}, \"yaxis\": {\"anchor\": \"x\", \"domain\": [0.0, 1.0], \"title\": {\"text\": \"Confirmed\"}}},\n",
              "                        {\"responsive\": true}\n",
              "                    ).then(function(){\n",
              "                            \n",
              "var gd = document.getElementById('71422bdd-0c15-4974-a292-497a45862986');\n",
              "var x = new MutationObserver(function (mutations, observer) {{\n",
              "        var display = window.getComputedStyle(gd).display;\n",
              "        if (!display || display === 'none') {{\n",
              "            console.log([gd, 'removed!']);\n",
              "            Plotly.purge(gd);\n",
              "            observer.disconnect();\n",
              "        }}\n",
              "}});\n",
              "\n",
              "// Listen for the removal of the full notebook cells\n",
              "var notebookContainer = gd.closest('#notebook-container');\n",
              "if (notebookContainer) {{\n",
              "    x.observe(notebookContainer, {childList: true});\n",
              "}}\n",
              "\n",
              "// Listen for the clearing of the current output cell\n",
              "var outputEl = gd.closest('.output');\n",
              "if (outputEl) {{\n",
              "    x.observe(outputEl, {childList: true});\n",
              "}}\n",
              "\n",
              "                        })\n",
              "                };\n",
              "                \n",
              "            </script>\n",
              "        </div>\n",
              "</body>\n",
              "</html>"
            ]
          },
          "metadata": {
            "tags": []
          }
        }
      ]
    }
  ]
}