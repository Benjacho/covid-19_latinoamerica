{
  "nbformat": 4,
  "nbformat_minor": 0,
  "metadata": {
    "colab": {
      "name": "LatamCovid19 - Fixing Missing data.ipynb",
      "provenance": [],
      "collapsed_sections": [],
      "toc_visible": true
    },
    "kernelspec": {
      "name": "python3",
      "display_name": "Python 3"
    }
  },
  "cells": [
    {
      "cell_type": "markdown",
      "metadata": {
        "id": "NxkM2nnjK8QF",
        "colab_type": "text"
      },
      "source": [
        "# PeruCovid19 & LatamCovid19 & DSRP\n",
        "\n",
        "### 1.- Loading data\n"
      ]
    },
    {
      "cell_type": "markdown",
      "metadata": {
        "id": "3HnVni20k31T",
        "colab_type": "text"
      },
      "source": [
        "Deleting all before load data"
      ]
    },
    {
      "cell_type": "code",
      "metadata": {
        "id": "dURGPBAFsYfX",
        "colab_type": "code",
        "outputId": "781c0bfa-6d0b-48e0-dc11-ac594ea778ec",
        "colab": {
          "base_uri": "https://localhost:8080/",
          "height": 71
        }
      },
      "source": [
        "# To delete last directory\n",
        "!chmod 777 /content/\n",
        "!rm -rf '/content/covid-19_latinoamerica/'\n",
        "%reset #Clear variables"
      ],
      "execution_count": 0,
      "outputs": [
        {
          "output_type": "stream",
          "text": [
            "Once deleted, variables cannot be recovered. Proceed (y/[n])? y\n",
            "Don't know how to reset  #clear, please run `%reset?` for details\n",
            "Don't know how to reset  variables, please run `%reset?` for details\n"
          ],
          "name": "stdout"
        }
      ]
    },
    {
      "cell_type": "code",
      "metadata": {
        "id": "KqIaGILDCquz",
        "colab_type": "code",
        "outputId": "fdaf91cd-6c67-4635-ac96-a5d77fac309a",
        "colab": {
          "base_uri": "https://localhost:8080/",
          "height": 143
        }
      },
      "source": [
        "# Clone repository\n",
        "!git clone https://github.com/DataScienceResearchPeru/covid-19_latinoamerica.git"
      ],
      "execution_count": 0,
      "outputs": [
        {
          "output_type": "stream",
          "text": [
            "Cloning into 'covid-19_latinoamerica'...\n",
            "remote: Enumerating objects: 315, done.\u001b[K\n",
            "remote: Counting objects: 100% (315/315), done.\u001b[K\n",
            "remote: Compressing objects: 100% (253/253), done.\u001b[K\n",
            "remote: Total 4549 (delta 250), reused 101 (delta 62), pack-reused 4234\u001b[K\n",
            "Receiving objects: 100% (4549/4549), 29.47 MiB | 20.93 MiB/s, done.\n",
            "Resolving deltas: 100% (3226/3226), done.\n"
          ],
          "name": "stdout"
        }
      ]
    },
    {
      "cell_type": "code",
      "metadata": {
        "id": "CnCSMOjpL6zU",
        "colab_type": "code",
        "outputId": "9d4c3382-dd69-4e42-df3a-d4079a3f3d83",
        "colab": {
          "base_uri": "https://localhost:8080/",
          "height": 35
        }
      },
      "source": [
        "# Importing libraries\n",
        "import pandas as pd\n",
        "import numpy as np\n",
        "import datetime\n",
        "import os\n",
        "import time\n",
        "\n",
        "path='/content/covid-19_latinoamerica/latam_covid_19_data/daily_reports/'\n",
        "path, dirs, files = next(os.walk(path))\n",
        "numero_archivos = len(files) \n",
        "print('Hay {} archivos en el folder y 1 el README. Iteraremos {} veces'.format(numero_archivos,numero_archivos-1))"
      ],
      "execution_count": 0,
      "outputs": [
        {
          "output_type": "stream",
          "text": [
            "Hay 64 archivos en el folder y 1 el README. Iteraremos 63 veces\n"
          ],
          "name": "stdout"
        }
      ]
    },
    {
      "cell_type": "markdown",
      "metadata": {
        "id": "LWo6mRSxkznC",
        "colab_type": "text"
      },
      "source": [
        "Loading ISO 3166-2 Code"
      ]
    },
    {
      "cell_type": "code",
      "metadata": {
        "id": "hSQgca-7kvUb",
        "colab_type": "code",
        "colab": {}
      },
      "source": [
        "url='https://raw.githubusercontent.com/DataScienceResearchPeru/covid-19_latinoamerica/master/utils/iso3166-2.csv'\n",
        "template_isocode=pd.read_csv(url, sep=',')\n",
        "isocode=template_isocode['Code']\n",
        "isocode=isocode[isocode!='PE-LMA']\n",
        "array_isocode=isocode.to_numpy()"
      ],
      "execution_count": 0,
      "outputs": []
    },
    {
      "cell_type": "markdown",
      "metadata": {
        "id": "vtNxUqMgk0aD",
        "colab_type": "text"
      },
      "source": [
        "Generating array with name of files"
      ]
    },
    {
      "cell_type": "code",
      "metadata": {
        "id": "5P0BmwjoL4Wu",
        "colab_type": "code",
        "outputId": "d6b0fbb8-c528-461c-dda7-388b2b269e09",
        "colab": {
          "base_uri": "https://localhost:8080/",
          "height": 73
        }
      },
      "source": [
        "# Generamos un arreglo con cada día que se tiene en archivo.\n",
        "base = (datetime.datetime.today()).date()\n",
        "numdays = numero_archivos-1\n",
        "date_list = [str(base - datetime.timedelta(days=x))+str('.csv') for x in range(numdays)]\n",
        "print('Agregamos {} nombres de archivo al arreglo'.format(len(date_list)))\n",
        "str(date_list)"
      ],
      "execution_count": 0,
      "outputs": [
        {
          "output_type": "stream",
          "text": [
            "Agregamos 63 nombres de archivo al arreglo\n"
          ],
          "name": "stdout"
        },
        {
          "output_type": "execute_result",
          "data": {
            "text/plain": [
              "\"['2020-04-27.csv', '2020-04-26.csv', '2020-04-25.csv', '2020-04-24.csv', '2020-04-23.csv', '2020-04-22.csv', '2020-04-21.csv', '2020-04-20.csv', '2020-04-19.csv', '2020-04-18.csv', '2020-04-17.csv', '2020-04-16.csv', '2020-04-15.csv', '2020-04-14.csv', '2020-04-13.csv', '2020-04-12.csv', '2020-04-11.csv', '2020-04-10.csv', '2020-04-09.csv', '2020-04-08.csv', '2020-04-07.csv', '2020-04-06.csv', '2020-04-05.csv', '2020-04-04.csv', '2020-04-03.csv', '2020-04-02.csv', '2020-04-01.csv', '2020-03-31.csv', '2020-03-30.csv', '2020-03-29.csv', '2020-03-28.csv', '2020-03-27.csv', '2020-03-26.csv', '2020-03-25.csv', '2020-03-24.csv', '2020-03-23.csv', '2020-03-22.csv', '2020-03-21.csv', '2020-03-20.csv', '2020-03-19.csv', '2020-03-18.csv', '2020-03-17.csv', '2020-03-16.csv', '2020-03-15.csv', '2020-03-14.csv', '2020-03-13.csv', '2020-03-12.csv', '2020-03-11.csv', '2020-03-10.csv', '2020-03-09.csv', '2020-03-08.csv', '2020-03-07.csv', '2020-03-06.csv', '2020-03-05.csv', '2020-03-04.csv', '2020-03-03.csv', '2020-03-02.csv', '2020-03-01.csv', '2020-02-29.csv', '2020-02-28.csv', '2020-02-27.csv', '2020-02-26.csv', '2020-02-25.csv']\""
            ]
          },
          "metadata": {
            "tags": []
          },
          "execution_count": 4
        }
      ]
    },
    {
      "cell_type": "code",
      "metadata": {
        "id": "WuXFWpnqfVT-",
        "colab_type": "code",
        "outputId": "52d406a8-9ba7-4455-dbec-3fb858f10f36",
        "colab": {
          "base_uri": "https://localhost:8080/",
          "height": 35
        }
      },
      "source": [
        "# Convertimos a data frame cada archivo.\n",
        "array_dataframes=[]\n",
        "indice=0\n",
        "print('En total hay {} archivos'.format(numdays))\n",
        "for date in date_list:\n",
        "  array_dataframes.append(pd.read_csv(path+date, sep=','))    \n",
        "  array_dataframes[indice]['Date']=date[:-4]\n",
        "  #del array_dataframes[indice]['Last Update'] \n",
        "  #del array_dataframes[indice]['Country']\n",
        "  #del array_dataframes[indice]['Subdivision']\n",
        "  # Crear dataframe total\n",
        "  indice+=1"
      ],
      "execution_count": 0,
      "outputs": [
        {
          "output_type": "stream",
          "text": [
            "En total hay 63 archivos\n"
          ],
          "name": "stdout"
        }
      ]
    },
    {
      "cell_type": "code",
      "metadata": {
        "id": "k23F3uHiG5l8",
        "colab_type": "code",
        "colab": {}
      },
      "source": [
        "total_data=pd.DataFrame() # structure \n",
        "for m in range(len(array_dataframes)-1):\n",
        "  total_data=pd.concat([total_data,array_dataframes[m]], ignore_index=True)  \n",
        "# Eliminamos duplicados\n",
        "total_data=total_data.drop_duplicates(keep=False)"
      ],
      "execution_count": 0,
      "outputs": []
    },
    {
      "cell_type": "markdown",
      "metadata": {
        "id": "iJH_DhjhaM6a",
        "colab_type": "text"
      },
      "source": [
        "Load first cases\n"
      ]
    },
    {
      "cell_type": "code",
      "metadata": {
        "id": "am-rIfKoaOWw",
        "colab_type": "code",
        "colab": {}
      },
      "source": [
        "url='https://raw.githubusercontent.com/DataScienceResearchPeru/covid-19_latinoamerica/7d6255612022dec1b005e6c040a7b9c2bf70b852/utils/first_cases_date.csv'\n",
        "template_first_cases=pd.read_csv(url, sep=',')\n",
        "first_cases=template_first_cases[['ISO 3166-2 Code','First Case Date']]"
      ],
      "execution_count": 0,
      "outputs": []
    },
    {
      "cell_type": "markdown",
      "metadata": {
        "id": "nyTSxpB6zcMR",
        "colab_type": "text"
      },
      "source": [
        "Checking errors"
      ]
    },
    {
      "cell_type": "code",
      "metadata": {
        "id": "01RszZKve2_Z",
        "colab_type": "code",
        "colab": {}
      },
      "source": [
        "def missing_data_checker(iteracion,mode,array_pnf,df):\n",
        "  i=iteracion\n",
        "  m=mode\n",
        "  a=array_pnf[0]\n",
        "  b=array_pnf[1]\n",
        "  c=array_pnf[2]\n",
        "  result='error'\n",
        "  today=datetime.datetime.now().strftime('%Y-%m-%dT%H:%M:%s')[:-8]\n",
        "  array_result=[0,\n",
        "                'pass', #1\n",
        "                'future', #2\n",
        "                'pass', #3\n",
        "                'now', #4\n",
        "                'now_future', #5\n",
        "                'now', #6\n",
        "                'pass', #7\n",
        "                'future', #8\n",
        "                'pass', #9\n",
        "                'pass', #10\n",
        "                'future', #11\n",
        "                'pass', #12\n",
        "                'pass', #13\n",
        "                'pass', #14\n",
        "                'pass', #15\n",
        "                'pass', #16\n",
        "                'future', #17\n",
        "                'pass', #18\n",
        "                'pass', #19\n",
        "                'future', #20\n",
        "                'pass', #21\n",
        "                'now', #22\n",
        "                'now_future', #23\n",
        "                'now', #24\n",
        "                'pass', #25\n",
        "                'future', #26\n",
        "                'pass', #27\n",
        "                ]\n",
        "\n",
        "  if (a==''):\n",
        "    if (b==''):\n",
        "      if (c==''): #1\n",
        "        result=array_result[1]\n",
        "      elif (c==0): #2\n",
        "        result=array_result[2]\n",
        "      else: # (c>0): #3\n",
        "        result=array_result[3]\n",
        "    elif (b==0):\n",
        "      if (c==''): #4\n",
        "        result=array_result[4]\n",
        "      elif (c==0): #5\n",
        "        result=array_result[5]\n",
        "      else: # (c>0): #6\n",
        "        result=array_result[6]\n",
        "    else: #(b>0):\n",
        "      if (c==''): #7\n",
        "        result=array_result[7]\n",
        "      elif (c==0): #8\n",
        "        result=array_result[8]\n",
        "      else: # (c>0): #9\n",
        "        result=array_result[9]\n",
        "  elif (a==0):\n",
        "    if (b==''):\n",
        "      if (c==''): #10\n",
        "        result=array_result[10]\n",
        "      elif (c==0): #11\n",
        "        result=array_result[11]\n",
        "      else: # (c>0): #12\n",
        "        result=array_result[12]\n",
        "    elif (b==0):\n",
        "      if (c==''): #13\n",
        "        result=array_result[13]\n",
        "      elif (c==0): #14\n",
        "        result=array_result[14]\n",
        "      else: # (c>0): #15\n",
        "        result=array_result[15]\n",
        "    else: # (b>0):\n",
        "      if (c==''): #16\n",
        "        result=array_result[16]\n",
        "      elif (c==0): #17\n",
        "        result=array_result[17]\n",
        "      else: # (c>0): #18\n",
        "        result=array_result[18]   \n",
        "  else: # (a>0):\n",
        "    if (b==''):\n",
        "      if (c==''): #19\n",
        "        result=array_result[19]\n",
        "      elif (c==0): #20\n",
        "        result=array_result[20]\n",
        "      else: # (c>0): #21\n",
        "        result=array_result[21]\n",
        "    elif (b==0):\n",
        "      if (c==''): #22\n",
        "        result=array_result[22]\n",
        "      elif (c==0): #23\n",
        "        result=array_result[23]\n",
        "      else: # (c>0): #24\n",
        "        result=array_result[24]\n",
        "    else: # (b>0):\n",
        "      if (c==''): #25\n",
        "        result=array_result[25]\n",
        "      elif (c==0): #26\n",
        "        result=array_result[26]\n",
        "      else: # (c>0): #27\n",
        "        result=array_result[27]       \n",
        "\n",
        "  flag_counter=0  \n",
        "  # Uncomment this to see errors\n",
        "  if result == 'pass':\n",
        "    pass\n",
        "  elif result!='error':\n",
        "    if result=='future':\n",
        "      df.loc[i+1,m]=str('')\n",
        "      df.loc[i+1,'Last Update']=today\n",
        "\n",
        "    if result=='now': \n",
        "      df.loc[i,m]=str('')\n",
        "      df.loc[i,'Last Update']=today\n",
        "      \n",
        "    if result=='now_future': \n",
        "      df.loc[i,m]=str('')\n",
        "      df.loc[i,'Last Update']=today\n",
        "      df.loc[i+1,m]=str('')\n",
        "      df.loc[i+1,'Last Update']=today\n",
        "    \n",
        "    flag_counter+=1\n",
        "    #print('a:{} b:{} c:{} resultado:{}'.format(a,b,c,result))      \n",
        "  else:\n",
        "    print('WARNING! - result={}'.format(result),end='')\n",
        "      \n",
        "    \n",
        "\n",
        "  # errors_confirmed.loc[index]=[str(code),str(day),str(past_confirmed),str(init_confirmed),str(Future_confirmed)]\n",
        "  return [df,flag_counter]"
      ],
      "execution_count": 0,
      "outputs": []
    },
    {
      "cell_type": "code",
      "metadata": {
        "id": "x92A8Z6TwqJj",
        "colab_type": "code",
        "colab": {}
      },
      "source": [
        "def first_cases_zeros(df,code):\n",
        "  df['Date']=pd.to_datetime(df['Date'],format='%Y-%m-%d')\n",
        "  z=first_cases[first_cases['ISO 3166-2 Code']==code]['First Case Date'].values[0] # First date as value\n",
        "  x=df['Date']<datetime.datetime.strptime(z,'%Y-%m-%d')\n",
        "  y=['Confirmed','Deaths','Recovered']\n",
        "  df.loc[x,y]=0 # Boolean, Column\n",
        "  # Last Update\n",
        "  today=datetime.datetime.now().strftime('%Y-%m-%dT%H:%M:%s')[:-8]\n",
        "  b=['Last Update']\n",
        "  df.loc[x,b]=today\n",
        "  return df"
      ],
      "execution_count": 0,
      "outputs": []
    },
    {
      "cell_type": "code",
      "metadata": {
        "id": "pvtLe8mhzdG0",
        "colab_type": "code",
        "outputId": "de91bd95-1208-46d5-c538-6dd512ce1ea2",
        "colab": {
          "base_uri": "https://localhost:8080/",
          "height": 1000
        }
      },
      "source": [
        "fixed_data = []\n",
        "\n",
        "for code in array_isocode:\n",
        "    # NaN to ''\n",
        "    temp = total_data[total_data['ISO 3166-2 Code'] == code]\n",
        "    df = temp.copy()  # Delete warning\n",
        "    df = df.fillna({'ISO 3166-2 Code': '',\n",
        "                    'Country': '',\n",
        "                    'Subdivision': '',\n",
        "                    'Last Update': '',\n",
        "                    'Confirmed': '',\n",
        "                    'Deaths': '',\n",
        "                    'Recovered': ''})\n",
        "    df = df.sort_values(by=['Date'])\n",
        "    df = df.reset_index(drop=True)\n",
        "    df = first_cases_zeros(df, code)  # Fill zeros at the beginning\n",
        "\n",
        "    counter_flags = 100\n",
        "    while counter_flags != 0:\n",
        "      \n",
        "        for iteration in range(len(date_list)-2):\n",
        "            # We skip first and last iteration because we have no data for\n",
        "            # past and future these days\n",
        "            time.sleep(0.05)\n",
        "            if iteration == 0:\n",
        "                continue\n",
        "            elif iteration > len(date_list)-4:\n",
        "                pass\n",
        "            else:\n",
        "                #print(iteration, end=\"\")\n",
        "                # Past\n",
        "                Past_confirmed = int(float('0'+str(df.loc[iteration-1]['Confirmed'])))\n",
        "                Past_deaths = int(float('0'+str(df.loc[iteration-1]['Deaths'])))\n",
        "                Past_recovered = int(float('0'+str(df.loc[iteration-1]['Recovered'])))\n",
        "                # Now\n",
        "                Now_confirmed = int(float('0'+str(df.loc[iteration]['Confirmed'])))\n",
        "                Now_deaths = int(float('0'+str(df.loc[iteration]['Deaths'])))\n",
        "                Now_recovered = int(float('0'+str(df.loc[iteration]['Recovered'])))\n",
        "                # Future\n",
        "                Future_confirmed = int(float('0'+str(df.loc[iteration+1]['Confirmed'])))\n",
        "                Future_deaths = int(float('0'+str(df.loc[iteration+1]['Deaths'])))\n",
        "                Future_recovered = int(float('0'+str(df.loc[iteration+1]['Recovered'])))\n",
        "\n",
        "                # Compare day after vs before in confirmed\n",
        "                conf = [Past_confirmed, Now_confirmed, Future_confirmed]\n",
        "                deat = [Past_deaths, Now_deaths, Future_deaths]\n",
        "                reco = [Past_recovered, Now_recovered, Future_recovered]\n",
        "\n",
        "                df, fc = missing_data_checker(iteration, 'Confirmed', conf, df)\n",
        "                df, fd = missing_data_checker(iteration, 'Deaths', deat, df)\n",
        "                df, fr = missing_data_checker(iteration, 'Recovered', reco, df)\n",
        "\n",
        "                counter_flags += (fc+fd+fr)\n",
        "            # endif\n",
        "        # endfor\n",
        "        #print('Counter_flags:{}'.format(counter_flags))\n",
        "        counter_flags = 0\n",
        "    # endwhile\n",
        "    fixed_data.append(df)\n",
        "    print('Subdivision:{} '.format(code))\n",
        "  "
      ],
      "execution_count": 0,
      "outputs": [
        {
          "output_type": "stream",
          "text": [
            "Subdivision:AR-B \n",
            "Subdivision:AR-K \n",
            "Subdivision:AR-H \n",
            "Subdivision:AR-U \n",
            "Subdivision:AR-C \n",
            "Subdivision:AR-W \n",
            "Subdivision:AR-X \n",
            "Subdivision:AR-E \n",
            "Subdivision:AR-P \n",
            "Subdivision:AR-Y \n",
            "Subdivision:AR-L \n",
            "Subdivision:AR-F \n",
            "Subdivision:AR-M \n",
            "Subdivision:AR-N \n",
            "Subdivision:AR-Q \n",
            "Subdivision:AR-R \n",
            "Subdivision:AR-A \n",
            "Subdivision:AR-J \n",
            "Subdivision:AR-D \n",
            "Subdivision:AR-Z \n",
            "Subdivision:AR-S \n",
            "Subdivision:AR-G \n",
            "Subdivision:AR-V \n",
            "Subdivision:AR-T \n",
            "Subdivision:BO-H \n",
            "Subdivision:BO-C \n",
            "Subdivision:BO-B \n",
            "Subdivision:BO-L \n",
            "Subdivision:BO-O \n",
            "Subdivision:BO-N \n",
            "Subdivision:BO-P \n",
            "Subdivision:BO-S \n",
            "Subdivision:BO-T \n",
            "Subdivision:BR-AC \n",
            "Subdivision:BR-AL \n",
            "Subdivision:BR-AP \n",
            "Subdivision:BR-AM \n",
            "Subdivision:BR-BA \n",
            "Subdivision:BR-CE \n",
            "Subdivision:BR-DF \n",
            "Subdivision:BR-ES \n",
            "Subdivision:BR-GO \n",
            "Subdivision:BR-MA \n",
            "Subdivision:BR-MT \n",
            "Subdivision:BR-MS \n",
            "Subdivision:BR-MG \n",
            "Subdivision:BR-PR \n",
            "Subdivision:BR-PB \n",
            "Subdivision:BR-PA \n",
            "Subdivision:BR-PE \n",
            "Subdivision:BR-PI \n",
            "Subdivision:BR-RJ \n",
            "Subdivision:BR-RN \n",
            "Subdivision:BR-RS \n",
            "Subdivision:BR-RO \n",
            "Subdivision:BR-RR \n",
            "Subdivision:BR-SC \n",
            "Subdivision:BR-SE \n",
            "Subdivision:BR-SP \n",
            "Subdivision:BR-TO \n",
            "Subdivision:CL-AN \n",
            "Subdivision:CL-AP \n",
            "Subdivision:CL-AT \n",
            "Subdivision:CL-AI \n",
            "Subdivision:CL-BI \n",
            "Subdivision:CL-CO \n",
            "Subdivision:CL-AR \n",
            "Subdivision:CL-LL \n",
            "Subdivision:CL-LR \n",
            "Subdivision:CL-MA \n",
            "Subdivision:CL-ML \n",
            "Subdivision:CL-LI \n",
            "Subdivision:CL-RM \n",
            "Subdivision:CL-TA \n",
            "Subdivision:CL-VS \n",
            "Subdivision:CL-NB \n",
            "Subdivision:CO-AMA \n",
            "Subdivision:CO-ANT \n",
            "Subdivision:CO-ARA \n",
            "Subdivision:CO-ATL \n",
            "Subdivision:CO-BOL \n",
            "Subdivision:CO-BOY \n",
            "Subdivision:CO-CAL \n",
            "Subdivision:CO-CAQ \n",
            "Subdivision:CO-CAS \n",
            "Subdivision:CO-CAU \n",
            "Subdivision:CO-CES \n",
            "Subdivision:CO-CHO \n",
            "Subdivision:CO-CUN \n",
            "Subdivision:CO-COR \n",
            "Subdivision:CO-DC \n",
            "Subdivision:CO-GUA \n",
            "Subdivision:CO-GUV \n",
            "Subdivision:CO-HUI \n",
            "Subdivision:CO-LAG \n",
            "Subdivision:CO-MAG \n",
            "Subdivision:CO-MET \n",
            "Subdivision:CO-NAR \n",
            "Subdivision:CO-NSA \n",
            "Subdivision:CO-PUT \n",
            "Subdivision:CO-QUI \n",
            "Subdivision:CO-RIS \n",
            "Subdivision:CO-SAP \n",
            "Subdivision:CO-SAN \n",
            "Subdivision:CO-SUC \n",
            "Subdivision:CO-TOL \n",
            "Subdivision:CO-VAC \n",
            "Subdivision:CO-VAU \n",
            "Subdivision:CO-VID \n",
            "Subdivision:CR-A \n",
            "Subdivision:CR-C \n",
            "Subdivision:CR-G \n",
            "Subdivision:CR-H \n",
            "Subdivision:CR-L \n",
            "Subdivision:CR-P \n",
            "Subdivision:CR-SJ \n",
            "Subdivision:CU-15 \n",
            "Subdivision:CU-09 \n",
            "Subdivision:CU-08 \n",
            "Subdivision:CU-06 \n",
            "Subdivision:CU-12 \n",
            "Subdivision:CU-14 \n",
            "Subdivision:CU-11 \n",
            "Subdivision:CU-99 \n",
            "Subdivision:CU-03 \n",
            "Subdivision:CU-10 \n",
            "Subdivision:CU-04 \n",
            "Subdivision:CU-16 \n",
            "Subdivision:CU-01 \n",
            "Subdivision:CU-07 \n",
            "Subdivision:CU-13 \n",
            "Subdivision:CU-05 \n",
            "Subdivision:DO-02 \n",
            "Subdivision:DO-03 \n",
            "Subdivision:DO-04 \n",
            "Subdivision:DO-05 \n",
            "Subdivision:DO-01 \n",
            "Subdivision:DO-06 \n",
            "Subdivision:DO-08 \n",
            "Subdivision:DO-07 \n",
            "Subdivision:DO-09 \n",
            "Subdivision:DO-30 \n",
            "Subdivision:DO-19 \n",
            "Subdivision:DO-10 \n",
            "Subdivision:DO-11 \n",
            "Subdivision:DO-12 \n",
            "Subdivision:DO-13 \n",
            "Subdivision:DO-14 \n",
            "Subdivision:DO-28 \n",
            "Subdivision:DO-15 \n",
            "Subdivision:DO-29 \n",
            "Subdivision:DO-16 \n",
            "Subdivision:DO-17 \n",
            "Subdivision:DO-18 \n",
            "Subdivision:DO-20 \n",
            "Subdivision:DO-21 \n",
            "Subdivision:DO-31 \n",
            "Subdivision:DO-22 \n",
            "Subdivision:DO-23 \n",
            "Subdivision:DO-25 \n",
            "Subdivision:DO-26 \n",
            "Subdivision:DO-32 \n",
            "Subdivision:DO-24 \n",
            "Subdivision:DO-27 \n",
            "Subdivision:EC-A \n",
            "Subdivision:EC-B \n",
            "Subdivision:EC-C \n",
            "Subdivision:EC-F \n",
            "Subdivision:EC-H \n",
            "Subdivision:EC-X \n",
            "Subdivision:EC-O \n",
            "Subdivision:EC-E \n",
            "Subdivision:EC-W \n",
            "Subdivision:EC-G \n",
            "Subdivision:EC-I \n",
            "Subdivision:EC-L \n",
            "Subdivision:EC-R \n",
            "Subdivision:EC-M \n",
            "Subdivision:EC-S \n",
            "Subdivision:EC-N \n",
            "Subdivision:EC-D \n",
            "Subdivision:EC-Y \n",
            "Subdivision:EC-P \n",
            "Subdivision:EC-SE \n",
            "Subdivision:EC-SD \n",
            "Subdivision:EC-U \n",
            "Subdivision:EC-T \n",
            "Subdivision:EC-Z \n",
            "Subdivision:SV-AH \n",
            "Subdivision:SV-CA \n",
            "Subdivision:SV-CH \n",
            "Subdivision:SV-CU \n",
            "Subdivision:SV-LI \n",
            "Subdivision:SV-PA \n",
            "Subdivision:SV-UN \n",
            "Subdivision:SV-MO \n",
            "Subdivision:SV-SM \n",
            "Subdivision:SV-SS \n",
            "Subdivision:SV-SV \n",
            "Subdivision:SV-SA \n",
            "Subdivision:SV-SO \n",
            "Subdivision:SV-US \n",
            "Subdivision:FR-GP \n",
            "Subdivision:FR-GF \n",
            "Subdivision:FR-MQ \n",
            "Subdivision:FR-BL \n",
            "Subdivision:FR-MF \n",
            "Subdivision:FR-PM \n",
            "Subdivision:GT-AV \n",
            "Subdivision:GT-BV \n",
            "Subdivision:GT-CM \n",
            "Subdivision:GT-CQ \n",
            "Subdivision:GT-PR \n",
            "Subdivision:GT-ES \n",
            "Subdivision:GT-GU \n",
            "Subdivision:GT-HU \n",
            "Subdivision:GT-IZ \n",
            "Subdivision:GT-JA \n",
            "Subdivision:GT-JU \n",
            "Subdivision:GT-PE \n",
            "Subdivision:GT-QZ \n",
            "Subdivision:GT-QC \n",
            "Subdivision:GT-RE \n",
            "Subdivision:GT-SA \n",
            "Subdivision:GT-SM \n",
            "Subdivision:GT-SR \n",
            "Subdivision:GT-SO \n",
            "Subdivision:GT-SU \n",
            "Subdivision:GT-TO \n",
            "Subdivision:GT-ZA \n",
            "Subdivision:HT-AR \n",
            "Subdivision:HT-CE \n",
            "Subdivision:HT-GA \n",
            "Subdivision:HT-NI \n",
            "Subdivision:HT-ND \n",
            "Subdivision:HT-NE \n",
            "Subdivision:HT-NO \n",
            "Subdivision:HT-OU \n",
            "Subdivision:HT-SD \n",
            "Subdivision:HT-SE \n",
            "Subdivision:HN-AT \n",
            "Subdivision:HN-CH \n",
            "Subdivision:HN-CL \n",
            "Subdivision:HN-CM \n",
            "Subdivision:HN-CP \n",
            "Subdivision:HN-CR \n",
            "Subdivision:HN-EP \n",
            "Subdivision:HN-FM \n",
            "Subdivision:HN-GD \n",
            "Subdivision:HN-IN \n",
            "Subdivision:HN-IB \n",
            "Subdivision:HN-LP \n",
            "Subdivision:HN-LE \n",
            "Subdivision:HN-OC \n",
            "Subdivision:HN-OL \n",
            "Subdivision:HN-SB \n",
            "Subdivision:HN-VA \n",
            "Subdivision:HN-YO \n",
            "Subdivision:MX-AGU \n",
            "Subdivision:MX-BCN \n",
            "Subdivision:MX-BCS \n",
            "Subdivision:MX-CAM \n",
            "Subdivision:MX-CHP \n",
            "Subdivision:MX-CHH \n",
            "Subdivision:MX-CMX \n",
            "Subdivision:MX-COA \n",
            "Subdivision:MX-COL \n",
            "Subdivision:MX-DUR \n",
            "Subdivision:MX-GUA \n",
            "Subdivision:MX-GRO \n",
            "Subdivision:MX-HID \n",
            "Subdivision:MX-JAL \n",
            "Subdivision:MX-MIC \n",
            "Subdivision:MX-MOR \n",
            "Subdivision:MX-MEX \n",
            "Subdivision:MX-NAY \n",
            "Subdivision:MX-NLE \n",
            "Subdivision:MX-OAX \n",
            "Subdivision:MX-PUE \n",
            "Subdivision:MX-QUE \n",
            "Subdivision:MX-ROO \n",
            "Subdivision:MX-SLP \n",
            "Subdivision:MX-SIN \n",
            "Subdivision:MX-SON \n",
            "Subdivision:MX-TAB \n",
            "Subdivision:MX-TAM \n",
            "Subdivision:MX-TLA \n",
            "Subdivision:MX-VER \n",
            "Subdivision:MX-YUC \n",
            "Subdivision:MX-ZAC \n",
            "Subdivision:NI-BO \n",
            "Subdivision:NI-CA \n",
            "Subdivision:NI-CI \n",
            "Subdivision:NI-CO \n",
            "Subdivision:NI-AN \n",
            "Subdivision:NI-AS \n",
            "Subdivision:NI-ES \n",
            "Subdivision:NI-GR \n",
            "Subdivision:NI-JI \n",
            "Subdivision:NI-LE \n",
            "Subdivision:NI-MD \n",
            "Subdivision:NI-MN \n",
            "Subdivision:NI-MS \n",
            "Subdivision:NI-MT \n",
            "Subdivision:NI-NS \n",
            "Subdivision:NI-RI \n",
            "Subdivision:NI-SJ \n",
            "Subdivision:PA-1 \n",
            "Subdivision:PA-4 \n",
            "Subdivision:PA-2 \n",
            "Subdivision:PA-3 \n",
            "Subdivision:PA-5 \n",
            "Subdivision:PA-EM \n",
            "Subdivision:PA-KY \n",
            "Subdivision:PA-6 \n",
            "Subdivision:PA-7 \n",
            "Subdivision:PA-NB \n",
            "Subdivision:PA-8 \n",
            "Subdivision:PA-10 \n",
            "Subdivision:PA-9 \n",
            "Subdivision:PY-16 \n",
            "Subdivision:PY-10 \n",
            "Subdivision:PY-13 \n",
            "Subdivision:PY-ASU \n",
            "Subdivision:PY-19 \n",
            "Subdivision:PY-5 \n",
            "Subdivision:PY-6 \n",
            "Subdivision:PY-14 \n",
            "Subdivision:PY-11 \n",
            "Subdivision:PY-1 \n",
            "Subdivision:PY-3 \n",
            "Subdivision:PY-4 \n",
            "Subdivision:PY-7 \n",
            "Subdivision:PY-8 \n",
            "Subdivision:PY-9 \n",
            "Subdivision:PY-15 \n",
            "Subdivision:PY-2 \n",
            "Subdivision:PY-12 \n",
            "Subdivision:PE-AMA \n",
            "Subdivision:PE-ANC \n",
            "Subdivision:PE-APU \n",
            "Subdivision:PE-ARE \n",
            "Subdivision:PE-AYA \n",
            "Subdivision:PE-CAJ \n",
            "Subdivision:PE-CUS \n",
            "Subdivision:PE-CAL \n",
            "Subdivision:PE-HUV \n",
            "Subdivision:PE-HUC \n",
            "Subdivision:PE-ICA \n",
            "Subdivision:PE-JUN \n",
            "Subdivision:PE-LAL \n",
            "Subdivision:PE-LAM \n",
            "Subdivision:PE-LIM \n",
            "Subdivision:PE-LOR \n",
            "Subdivision:PE-MDD \n",
            "Subdivision:PE-MOQ \n",
            "Subdivision:PE-PAS \n",
            "Subdivision:PE-PIU \n",
            "Subdivision:PE-PUN \n",
            "Subdivision:PE-SAM \n",
            "Subdivision:PE-TAC \n",
            "Subdivision:PE-TUM \n",
            "Subdivision:PE-UCA \n",
            "Subdivision:US-PR \n",
            "Subdivision:UY-AR \n",
            "Subdivision:UY-CA \n",
            "Subdivision:UY-CL \n",
            "Subdivision:UY-CO \n",
            "Subdivision:UY-DU \n",
            "Subdivision:UY-FS \n",
            "Subdivision:UY-FD \n",
            "Subdivision:UY-LA \n",
            "Subdivision:UY-MA \n",
            "Subdivision:UY-MO \n",
            "Subdivision:UY-PA \n",
            "Subdivision:UY-RV \n",
            "Subdivision:UY-RO \n",
            "Subdivision:UY-RN \n",
            "Subdivision:UY-SA \n",
            "Subdivision:UY-SJ \n",
            "Subdivision:UY-SO \n",
            "Subdivision:UY-TA \n",
            "Subdivision:UY-TT \n",
            "Subdivision:VE-Z \n",
            "Subdivision:VE-B \n",
            "Subdivision:VE-C \n",
            "Subdivision:VE-D \n",
            "Subdivision:VE-E \n",
            "Subdivision:VE-F \n",
            "Subdivision:VE-G \n",
            "Subdivision:VE-H \n",
            "Subdivision:VE-Y \n",
            "Subdivision:VE-W \n",
            "Subdivision:VE-A \n",
            "Subdivision:VE-I \n",
            "Subdivision:VE-J \n",
            "Subdivision:VE-K \n",
            "Subdivision:VE-M \n",
            "Subdivision:VE-N \n",
            "Subdivision:VE-L \n",
            "Subdivision:VE-O \n",
            "Subdivision:VE-P \n",
            "Subdivision:VE-R \n",
            "Subdivision:VE-T \n",
            "Subdivision:VE-S \n",
            "Subdivision:VE-X \n",
            "Subdivision:VE-U \n",
            "Subdivision:VE-V \n"
          ],
          "name": "stdout"
        }
      ]
    },
    {
      "cell_type": "markdown",
      "metadata": {
        "id": "v9OZsqQ2BkFD",
        "colab_type": "text"
      },
      "source": [
        "Agroup per Date all fixed data"
      ]
    },
    {
      "cell_type": "code",
      "metadata": {
        "id": "SMqQSERRwpa4",
        "colab_type": "code",
        "colab": {}
      },
      "source": [
        "total_data_fixed=pd.DataFrame() # structure \n",
        "for m in range(len(fixed_data)):\n",
        "  total_data_fixed=pd.concat([total_data_fixed,fixed_data[m]], ignore_index=True)  \n",
        "# Eliminamos duplicados\n",
        "total_data_fixed=total_data_fixed.drop_duplicates(keep=False)\n",
        "# Reorder\n",
        "total_data_fixed=total_data_fixed.sort_values(by=['Date','Country','Subdivision'])"
      ],
      "execution_count": 0,
      "outputs": []
    },
    {
      "cell_type": "markdown",
      "metadata": {
        "id": "ehzZdWmty3ql",
        "colab_type": "text"
      },
      "source": [
        "### 3.-Updating data\n",
        "\n",
        "Change missing data to blank spaces instead using zeros with no-sense"
      ]
    },
    {
      "cell_type": "code",
      "metadata": {
        "id": "BgyGVhkOCvQE",
        "colab_type": "code",
        "colab": {}
      },
      "source": [
        "def find_country_name(row):\n",
        "  # index of ISO CODE\n",
        "  x=row['ISO 3166-2 Code']\n",
        "  m=template_isocode[template_isocode['Code']==x].index.values[0]  \n",
        "  country_name=template_isocode.loc[m]['Country Name']\n",
        "  return country_name\n",
        "\n",
        "def find_subdivision_name(row):\n",
        "  # index of ISO CODE\n",
        "  x=row['ISO 3166-2 Code']\n",
        "  m=template_isocode[template_isocode['Code']==x].index.values[0]  \n",
        "  subdivision_name=template_isocode.loc[m]['Subdivision Name Used']\n",
        "  return subdivision_name\n",
        "\n",
        "array_total_data_fixed=[]\n",
        "for date in date_list:\n",
        "  temp=total_data_fixed[total_data_fixed['Date']==date[:-4]]\n",
        "  temp_day=temp[['ISO 3166-2 Code','Country','Subdivision','Last Update','Confirmed','Deaths','Recovered']].copy()\n",
        "  array_total_data_fixed.append(temp_day)"
      ],
      "execution_count": 0,
      "outputs": []
    },
    {
      "cell_type": "markdown",
      "metadata": {
        "id": "dlHT9Wih4Jy4",
        "colab_type": "text"
      },
      "source": [
        "Fix format"
      ]
    },
    {
      "cell_type": "code",
      "metadata": {
        "id": "8MfOCgbF01GH",
        "colab_type": "code",
        "colab": {}
      },
      "source": [
        "for a in range(len(date_list)):\n",
        "  array_total_data_fixed[a]['Confirmed']=array_total_data_fixed[a]['Confirmed'].astype(str).astype(float,errors='ignore').astype(int,errors='ignore')\n",
        "  array_total_data_fixed[a]['Deaths']=array_total_data_fixed[a]['Deaths'].astype(str).astype(float,errors='ignore').astype(int,errors='ignore')\n",
        "  array_total_data_fixed[a]['Recovered']=array_total_data_fixed[a]['Recovered'].astype(str).astype(float,errors='ignore').astype(int,errors='ignore')\n",
        "  #array_total_data_fixed[a]=array_total_data_fixed[a].applymap(str)"
      ],
      "execution_count": 0,
      "outputs": []
    },
    {
      "cell_type": "code",
      "metadata": {
        "id": "NIj5NEYO5qNB",
        "colab_type": "code",
        "colab": {}
      },
      "source": [
        "array_total_data_fixed[14]"
      ],
      "execution_count": 0,
      "outputs": []
    },
    {
      "cell_type": "code",
      "metadata": {
        "id": "ZL_2Nfq5qV0h",
        "colab_type": "code",
        "colab": {}
      },
      "source": [
        "today=datetime.date.today()\n",
        "path2='/content/covid-19_latinoamerica/latam_covid_19_data/daily_reports_fixed/'\n",
        "!mkdir '/content/covid-19_latinoamerica/latam_covid_19_data/daily_reports_fixed/'\n",
        "\n",
        "for number_date in range(date_list):\n",
        "  string_file='{}{}.csv'.format(path2,date[:-4])\n",
        "  array_total_data_fixed[number_date].to_csv(string_file, sep=',',index=False)\n",
        "  print('Generated {}'.format(string_file))"
      ],
      "execution_count": 0,
      "outputs": []
    },
    {
      "cell_type": "code",
      "metadata": {
        "id": "7RtfUGF9urpG",
        "colab_type": "code",
        "colab": {}
      },
      "source": [
        "# Download all in the folder\n",
        "!zip -r /content/daily_report.zip /content/covid-19_latinoamerica/latam_covid_19_data/daily_reports_fixed"
      ],
      "execution_count": 0,
      "outputs": []
    },
    {
      "cell_type": "code",
      "metadata": {
        "id": "MoRnWYcFBp1k",
        "colab_type": "code",
        "colab": {}
      },
      "source": [
        "# Download the data\n",
        "from google.colab import files\n",
        "files.download('/content/daily_report.zip')"
      ],
      "execution_count": 0,
      "outputs": []
    }
  ]
}