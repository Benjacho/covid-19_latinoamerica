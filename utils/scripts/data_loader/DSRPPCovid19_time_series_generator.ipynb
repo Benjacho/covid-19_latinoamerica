{
  "nbformat": 4,
  "nbformat_minor": 0,
  "metadata": {
    "colab": {
      "name": "DSRPPCovid19 - time series generator.ipynb",
      "provenance": [],
      "collapsed_sections": [],
      "toc_visible": true
    },
    "kernelspec": {
      "name": "python3",
      "display_name": "Python 3"
    }
  },
  "cells": [
    {
      "cell_type": "markdown",
      "metadata": {
        "id": "NxkM2nnjK8QF",
        "colab_type": "text"
      },
      "source": [
        "# PeruCovid19 & LatamCovid19 & DSRP\n",
        "\n",
        "### 1.- Loading data\n"
      ]
    },
    {
      "cell_type": "markdown",
      "metadata": {
        "id": "3HnVni20k31T",
        "colab_type": "text"
      },
      "source": [
        "Deleting all before load data"
      ]
    },
    {
      "cell_type": "code",
      "metadata": {
        "id": "dURGPBAFsYfX",
        "colab_type": "code",
        "outputId": "e6d0d375-209a-4756-8cbe-880ad74acd42",
        "colab": {
          "base_uri": "https://localhost:8080/",
          "height": 71
        }
      },
      "source": [
        "# To delete last directory\n",
        "!chmod 777 /content/\n",
        "!rm -rf '/content/covid-19_latinoamerica/'\n",
        "%reset #Clear variables"
      ],
      "execution_count": 1,
      "outputs": [
        {
          "output_type": "stream",
          "text": [
            "Once deleted, variables cannot be recovered. Proceed (y/[n])? Y\n",
            "Don't know how to reset  #clear, please run `%reset?` for details\n",
            "Don't know how to reset  variables, please run `%reset?` for details\n"
          ],
          "name": "stdout"
        }
      ]
    },
    {
      "cell_type": "code",
      "metadata": {
        "id": "KqIaGILDCquz",
        "colab_type": "code",
        "outputId": "f3da98fa-3132-4baf-cc3f-002631683e45",
        "colab": {
          "base_uri": "https://localhost:8080/",
          "height": 143
        }
      },
      "source": [
        "# Clone repository\n",
        "!git clone https://github.com/DataScienceResearchPeru/covid-19_latinoamerica.git"
      ],
      "execution_count": 2,
      "outputs": [
        {
          "output_type": "stream",
          "text": [
            "Cloning into 'covid-19_latinoamerica'...\n",
            "remote: Enumerating objects: 465, done.\u001b[K\n",
            "remote: Counting objects:   0% (1/465)\u001b[K\rremote: Counting objects:   1% (5/465)\u001b[K\rremote: Counting objects:   2% (10/465)\u001b[K\rremote: Counting objects:   3% (14/465)\u001b[K\rremote: Counting objects:   4% (19/465)\u001b[K\rremote: Counting objects:   5% (24/465)\u001b[K\rremote: Counting objects:   6% (28/465)\u001b[K\rremote: Counting objects:   7% (33/465)\u001b[K\rremote: Counting objects:   8% (38/465)\u001b[K\rremote: Counting objects:   9% (42/465)\u001b[K\rremote: Counting objects:  10% (47/465)\u001b[K\rremote: Counting objects:  11% (52/465)\u001b[K\rremote: Counting objects:  12% (56/465)\u001b[K\rremote: Counting objects:  13% (61/465)\u001b[K\rremote: Counting objects:  14% (66/465)\u001b[K\rremote: Counting objects:  15% (70/465)\u001b[K\rremote: Counting objects:  16% (75/465)\u001b[K\rremote: Counting objects:  17% (80/465)\u001b[K\rremote: Counting objects:  18% (84/465)\u001b[K\rremote: Counting objects:  19% (89/465)\u001b[K\rremote: Counting objects:  20% (93/465)\u001b[K\rremote: Counting objects:  21% (98/465)\u001b[K\rremote: Counting objects:  22% (103/465)\u001b[K\rremote: Counting objects:  23% (107/465)\u001b[K\rremote: Counting objects:  24% (112/465)\u001b[K\rremote: Counting objects:  25% (117/465)\u001b[K\rremote: Counting objects:  26% (121/465)\u001b[K\rremote: Counting objects:  27% (126/465)\u001b[K\rremote: Counting objects:  28% (131/465)\u001b[K\rremote: Counting objects:  29% (135/465)\u001b[K\rremote: Counting objects:  30% (140/465)\u001b[K\rremote: Counting objects:  31% (145/465)\u001b[K\rremote: Counting objects:  32% (149/465)\u001b[K\rremote: Counting objects:  33% (154/465)\u001b[K\rremote: Counting objects:  34% (159/465)\u001b[K\rremote: Counting objects:  35% (163/465)\u001b[K\rremote: Counting objects:  36% (168/465)\u001b[K\rremote: Counting objects:  37% (173/465)\u001b[K\rremote: Counting objects:  38% (177/465)\u001b[K\rremote: Counting objects:  39% (182/465)\u001b[K\rremote: Counting objects:  40% (186/465)\u001b[K\rremote: Counting objects:  41% (191/465)\u001b[K\rremote: Counting objects:  42% (196/465)\u001b[K\rremote: Counting objects:  43% (200/465)\u001b[K\rremote: Counting objects:  44% (205/465)\u001b[K\rremote: Counting objects:  45% (210/465)\u001b[K\rremote: Counting objects:  46% (214/465)\u001b[K\rremote: Counting objects:  47% (219/465)\u001b[K\rremote: Counting objects:  48% (224/465)\u001b[K\rremote: Counting objects:  49% (228/465)\u001b[K\rremote: Counting objects:  50% (233/465)\u001b[K\rremote: Counting objects:  51% (238/465)\u001b[K\rremote: Counting objects:  52% (242/465)\u001b[K\rremote: Counting objects:  53% (247/465)\u001b[K\rremote: Counting objects:  54% (252/465)\u001b[K\rremote: Counting objects:  55% (256/465)\u001b[K\rremote: Counting objects:  56% (261/465)\u001b[K\rremote: Counting objects:  57% (266/465)\u001b[K\rremote: Counting objects:  58% (270/465)\u001b[K\rremote: Counting objects:  59% (275/465)\u001b[K\rremote: Counting objects:  60% (279/465)\u001b[K\rremote: Counting objects:  61% (284/465)\u001b[K\rremote: Counting objects:  62% (289/465)\u001b[K\rremote: Counting objects:  63% (293/465)\u001b[K\rremote: Counting objects:  64% (298/465)\u001b[K\rremote: Counting objects:  65% (303/465)\u001b[K\rremote: Counting objects:  66% (307/465)\u001b[K\rremote: Counting objects:  67% (312/465)\u001b[K\rremote: Counting objects:  68% (317/465)\u001b[K\rremote: Counting objects:  69% (321/465)\u001b[K\rremote: Counting objects:  70% (326/465)\u001b[K\rremote: Counting objects:  71% (331/465)\u001b[K\rremote: Counting objects:  72% (335/465)\u001b[K\rremote: Counting objects:  73% (340/465)\u001b[K\rremote: Counting objects:  74% (345/465)\u001b[K\rremote: Counting objects:  75% (349/465)\u001b[K\rremote: Counting objects:  76% (354/465)\u001b[K\rremote: Counting objects:  77% (359/465)\u001b[K\rremote: Counting objects:  78% (363/465)\u001b[K\rremote: Counting objects:  79% (368/465)\u001b[K\rremote: Counting objects:  80% (372/465)\u001b[K\rremote: Counting objects:  81% (377/465)\u001b[K\rremote: Counting objects:  82% (382/465)\u001b[K\rremote: Counting objects:  83% (386/465)\u001b[K\rremote: Counting objects:  84% (391/465)\u001b[K\rremote: Counting objects:  85% (396/465)\u001b[K\rremote: Counting objects:  86% (400/465)\u001b[K\rremote: Counting objects:  87% (405/465)\u001b[K\rremote: Counting objects:  88% (410/465)\u001b[K\rremote: Counting objects:  89% (414/465)\u001b[K\rremote: Counting objects:  90% (419/465)\u001b[K\rremote: Counting objects:  91% (424/465)\u001b[K\rremote: Counting objects:  92% (428/465)\u001b[K\rremote: Counting objects:  93% (433/465)\u001b[K\rremote: Counting objects:  94% (438/465)\u001b[K\rremote: Counting objects:  95% (442/465)\u001b[K\rremote: Counting objects:  96% (447/465)\u001b[K\rremote: Counting objects:  97% (452/465)\u001b[K\rremote: Counting objects:  98% (456/465)\u001b[K\rremote: Counting objects:  99% (461/465)\u001b[K\rremote: Counting objects: 100% (465/465)\u001b[K\rremote: Counting objects: 100% (465/465), done.\u001b[K\n",
            "remote: Compressing objects: 100% (289/289), done.\u001b[K\n",
            "remote: Total 5329 (delta 371), reused 236 (delta 174), pack-reused 4864\u001b[K\n",
            "Receiving objects: 100% (5329/5329), 29.84 MiB | 18.77 MiB/s, done.\n",
            "Resolving deltas: 100% (3882/3882), done.\n"
          ],
          "name": "stdout"
        }
      ]
    },
    {
      "cell_type": "code",
      "metadata": {
        "id": "CnCSMOjpL6zU",
        "colab_type": "code",
        "outputId": "73108218-c152-4e49-a8f4-d5800080c899",
        "colab": {
          "base_uri": "https://localhost:8080/",
          "height": 35
        }
      },
      "source": [
        "# Importing libraries\n",
        "import pandas as pd\n",
        "import numpy as np\n",
        "import datetime\n",
        "import os\n",
        "import time\n",
        "\n",
        "path='/content/covid-19_latinoamerica/latam_covid_19_data/daily_reports/'\n",
        "path, dirs, files = next(os.walk(path))\n",
        "numero_archivos = len(files) \n",
        "print('Hay {} archivos en el folder y 1 el README. Iteraremos {} veces'.format(numero_archivos,numero_archivos-1))"
      ],
      "execution_count": 3,
      "outputs": [
        {
          "output_type": "stream",
          "text": [
            "Hay 80 archivos en el folder y 1 el README. Iteraremos 79 veces\n"
          ],
          "name": "stdout"
        }
      ]
    },
    {
      "cell_type": "markdown",
      "metadata": {
        "id": "LWo6mRSxkznC",
        "colab_type": "text"
      },
      "source": [
        "Loading ISO 3166-2 Code"
      ]
    },
    {
      "cell_type": "code",
      "metadata": {
        "id": "hSQgca-7kvUb",
        "colab_type": "code",
        "colab": {}
      },
      "source": [
        "url='https://raw.githubusercontent.com/DataScienceResearchPeru/covid-19_latinoamerica/master/utils/iso3166-2.csv'\n",
        "template_isocode=pd.read_csv(url, sep=',')\n",
        "isocode=template_isocode['Code']\n",
        "isocode=isocode[isocode!='PE-LMA']\n",
        "array_isocode=isocode.to_numpy()"
      ],
      "execution_count": 0,
      "outputs": []
    },
    {
      "cell_type": "markdown",
      "metadata": {
        "id": "vtNxUqMgk0aD",
        "colab_type": "text"
      },
      "source": [
        "Generating array with name of files"
      ]
    },
    {
      "cell_type": "code",
      "metadata": {
        "id": "5P0BmwjoL4Wu",
        "colab_type": "code",
        "outputId": "31114478-6509-4b42-a226-7d8ac9d5707a",
        "colab": {
          "base_uri": "https://localhost:8080/",
          "height": 73
        }
      },
      "source": [
        "# Generamos un arreglo con cada día que se tiene en archivo.\n",
        "base = (datetime.datetime.today()).date()\n",
        "numdays = numero_archivos-1\n",
        "date_list = [str(base - datetime.timedelta(days=x))+str('.csv') for x in range(numdays)]\n",
        "print('Agregamos {} nombres de archivo al arreglo'.format(len(date_list)))\n",
        "str(date_list)"
      ],
      "execution_count": 5,
      "outputs": [
        {
          "output_type": "stream",
          "text": [
            "Agregamos 79 nombres de archivo al arreglo\n"
          ],
          "name": "stdout"
        },
        {
          "output_type": "execute_result",
          "data": {
            "text/plain": [
              "\"['2020-05-13.csv', '2020-05-12.csv', '2020-05-11.csv', '2020-05-10.csv', '2020-05-09.csv', '2020-05-08.csv', '2020-05-07.csv', '2020-05-06.csv', '2020-05-05.csv', '2020-05-04.csv', '2020-05-03.csv', '2020-05-02.csv', '2020-05-01.csv', '2020-04-30.csv', '2020-04-29.csv', '2020-04-28.csv', '2020-04-27.csv', '2020-04-26.csv', '2020-04-25.csv', '2020-04-24.csv', '2020-04-23.csv', '2020-04-22.csv', '2020-04-21.csv', '2020-04-20.csv', '2020-04-19.csv', '2020-04-18.csv', '2020-04-17.csv', '2020-04-16.csv', '2020-04-15.csv', '2020-04-14.csv', '2020-04-13.csv', '2020-04-12.csv', '2020-04-11.csv', '2020-04-10.csv', '2020-04-09.csv', '2020-04-08.csv', '2020-04-07.csv', '2020-04-06.csv', '2020-04-05.csv', '2020-04-04.csv', '2020-04-03.csv', '2020-04-02.csv', '2020-04-01.csv', '2020-03-31.csv', '2020-03-30.csv', '2020-03-29.csv', '2020-03-28.csv', '2020-03-27.csv', '2020-03-26.csv', '2020-03-25.csv', '2020-03-24.csv', '2020-03-23.csv', '2020-03-22.csv', '2020-03-21.csv', '2020-03-20.csv', '2020-03-19.csv', '2020-03-18.csv', '2020-03-17.csv', '2020-03-16.csv', '2020-03-15.csv', '2020-03-14.csv', '2020-03-13.csv', '2020-03-12.csv', '2020-03-11.csv', '2020-03-10.csv', '2020-03-09.csv', '2020-03-08.csv', '2020-03-07.csv', '2020-03-06.csv', '2020-03-05.csv', '2020-03-04.csv', '2020-03-03.csv', '2020-03-02.csv', '2020-03-01.csv', '2020-02-29.csv', '2020-02-28.csv', '2020-02-27.csv', '2020-02-26.csv', '2020-02-25.csv']\""
            ]
          },
          "metadata": {
            "tags": []
          },
          "execution_count": 5
        }
      ]
    },
    {
      "cell_type": "code",
      "metadata": {
        "id": "WuXFWpnqfVT-",
        "colab_type": "code",
        "outputId": "d87c14ae-9b0e-4b18-d864-641ed49ec4e9",
        "colab": {
          "base_uri": "https://localhost:8080/",
          "height": 35
        }
      },
      "source": [
        "# Convertimos a data frame cada archivo.\n",
        "array_dataframes=[]\n",
        "indice=0\n",
        "print('En total hay {} archivos'.format(numdays))\n",
        "for date in date_list:\n",
        "  array_dataframes.append(pd.read_csv(path+date, sep=','))    \n",
        "  array_dataframes[indice]['Date']=date[:-4]\n",
        "  # Crear dataframe total\n",
        "  indice+=1"
      ],
      "execution_count": 6,
      "outputs": [
        {
          "output_type": "stream",
          "text": [
            "En total hay 79 archivos\n"
          ],
          "name": "stdout"
        }
      ]
    },
    {
      "cell_type": "markdown",
      "metadata": {
        "id": "48PA_2JGQSE9",
        "colab_type": "text"
      },
      "source": [
        "# Confirmed"
      ]
    },
    {
      "cell_type": "code",
      "metadata": {
        "id": "IkJiLJaqxChb",
        "colab_type": "code",
        "colab": {}
      },
      "source": [
        "#Extrayendo las mismas columnas\n",
        "confirmed=array_dataframes[0].iloc[:,0:4]\n",
        "\n",
        "#Extrayendo Confirmados por día de los demás dataframes y añadiendo columnas al data frame inicial\n",
        "\n",
        "for i in range(len(array_dataframes)-1):\n",
        "  m=len(array_dataframes)-1-i\n",
        "  confirmed[str([array_dataframes[m]['Date'][0]][0])]=array_dataframes[m][['Confirmed']]\n",
        "\n",
        "confirmed['Last Update']=today=datetime.datetime.now().strftime('%Y-%m-%dT%H:%M:%s')[:-8]\n",
        "confirmed=confirmed.fillna('')\n",
        "confirmed"
      ],
      "execution_count": 0,
      "outputs": []
    },
    {
      "cell_type": "markdown",
      "metadata": {
        "id": "W9CDNjVYQTU1",
        "colab_type": "text"
      },
      "source": [
        "# Deaths"
      ]
    },
    {
      "cell_type": "code",
      "metadata": {
        "id": "mil6tJtIQRTt",
        "colab_type": "code",
        "colab": {}
      },
      "source": [
        "#Extrayendo las mismas columnas\n",
        "deaths=array_dataframes[0].iloc[:,0:4]\n",
        "\n",
        "#Extrayendo Confirmados por día de los demás dataframes y añadiendo columnas al data frame inicial\n",
        "\n",
        "for i in range(len(array_dataframes)-1):\n",
        "  m=len(array_dataframes)-1-i\n",
        "  deaths[str([array_dataframes[m]['Date'][0]][0])]=array_dataframes[m][['Deaths']]\n",
        "\n",
        "deaths['Last Update']=today=datetime.datetime.now().strftime('%Y-%m-%dT%H:%M:%s')[:-8]\n",
        "deaths=deaths.fillna('')\n",
        "deaths"
      ],
      "execution_count": 0,
      "outputs": []
    },
    {
      "cell_type": "markdown",
      "metadata": {
        "id": "PA6nK2oQQVEN",
        "colab_type": "text"
      },
      "source": [
        "# Recovered"
      ]
    },
    {
      "cell_type": "code",
      "metadata": {
        "id": "wl5G1vuQQWSU",
        "colab_type": "code",
        "colab": {}
      },
      "source": [
        "#Extrayendo las mismas columnas\n",
        "recovered=array_dataframes[0].iloc[:,0:4]\n",
        "\n",
        "#Extrayendo Confirmados por día de los demás dataframes y añadiendo columnas al data frame inicial\n",
        "\n",
        "for i in range(len(array_dataframes)-1):\n",
        "  m=len(array_dataframes)-1-i\n",
        "  recovered[str([array_dataframes[m]['Date'][0]][0])]=array_dataframes[m][['Recovered']]\n",
        "\n",
        "recovered['Last Update']=today=datetime.datetime.now().strftime('%Y-%m-%dT%H:%M:%s')[:-8]\n",
        "recovered=recovered.fillna('')\n",
        "recovered"
      ],
      "execution_count": 0,
      "outputs": []
    },
    {
      "cell_type": "markdown",
      "metadata": {
        "id": "Yk2ChMqLQWsF",
        "colab_type": "text"
      },
      "source": [
        "# Save files"
      ]
    },
    {
      "cell_type": "code",
      "metadata": {
        "id": "3Ki_8LKUQ3DF",
        "colab_type": "code",
        "colab": {
          "base_uri": "https://localhost:8080/",
          "height": 35
        },
        "outputId": "dad8583a-cd39-46e4-880d-8d92dbb25fb5"
      },
      "source": [
        "!mkdir time_series"
      ],
      "execution_count": 42,
      "outputs": [
        {
          "output_type": "stream",
          "text": [
            "mkdir: cannot create directory ‘time_series’: File exists\n"
          ],
          "name": "stdout"
        }
      ]
    },
    {
      "cell_type": "code",
      "metadata": {
        "id": "CmTdj_UiKwxF",
        "colab_type": "code",
        "colab": {}
      },
      "source": [
        "confirmed.to_csv('time_series/time_series_confirmed.csv',sep=',',index=False)\n",
        "deaths.to_csv('time_series/time_series_deaths.csv',sep=',',index=False)\n",
        "recovered.to_csv('time_series/time_series_recovered.csv',sep=',',index=False)"
      ],
      "execution_count": 0,
      "outputs": []
    },
    {
      "cell_type": "markdown",
      "metadata": {
        "id": "_GC_lLcaQp20",
        "colab_type": "text"
      },
      "source": [
        "# Zip & Download"
      ]
    },
    {
      "cell_type": "code",
      "metadata": {
        "id": "iB6iBiasQtpl",
        "colab_type": "code",
        "colab": {
          "base_uri": "https://localhost:8080/",
          "height": 89
        },
        "outputId": "cddb89af-55b1-4afd-8745-fa0130979b11"
      },
      "source": [
        "# Download all in the folder\n",
        "!zip -r /content/time_series.zip /content/time_series"
      ],
      "execution_count": 44,
      "outputs": [
        {
          "output_type": "stream",
          "text": [
            "  adding: content/time_series/ (stored 0%)\n",
            "  adding: content/time_series/time_series_recovered.csv (deflated 93%)\n",
            "  adding: content/time_series/time_series_deaths.csv (deflated 90%)\n",
            "  adding: content/time_series/time_series_confirmed.csv (deflated 83%)\n"
          ],
          "name": "stdout"
        }
      ]
    },
    {
      "cell_type": "code",
      "metadata": {
        "id": "9ThXzNIrRIz9",
        "colab_type": "code",
        "colab": {}
      },
      "source": [
        "# Download the data\n",
        "from google.colab import files\n",
        "files.download('/content/time_series.zip')"
      ],
      "execution_count": 0,
      "outputs": []
    }
  ]
}